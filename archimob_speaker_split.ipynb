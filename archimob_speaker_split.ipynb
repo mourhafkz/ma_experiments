{
  "nbformat": 4,
  "nbformat_minor": 0,
  "metadata": {
    "colab": {
      "provenance": []
    },
    "kernelspec": {
      "name": "python3",
      "display_name": "Python 3"
    },
    "language_info": {
      "name": "python"
    }
  },
  "cells": [
    {
      "cell_type": "code",
      "execution_count": null,
      "metadata": {
        "colab": {
          "base_uri": "https://localhost:8080/"
        },
        "id": "SkFKog8JkGAL",
        "outputId": "2ab4a3cb-e3cd-4d75-d3b0-0d1a21cc4085"
      },
      "outputs": [
        {
          "output_type": "stream",
          "name": "stdout",
          "text": [
            "Mounted at /content/drive\n"
          ]
        }
      ],
      "source": [
        "from google.colab import drive\n",
        "drive.mount('/content/drive')"
      ]
    },
    {
      "cell_type": "code",
      "source": [
        "from sklearn.metrics import  confusion_matrix\n",
        "from sklearn.metrics import classification_report\n",
        "from sklearn.svm import SVC\n",
        "from sklearn import metrics, preprocessing\n",
        "import numpy as np\n",
        "import pandas as pd\n",
        "import glob\n",
        "import os\n",
        "import xml.etree.ElementTree as ET\n",
        "import re\n",
        "from pprint import pprint\n",
        "from tqdm import tqdm"
      ],
      "metadata": {
        "id": "QrSYcRH-kNDy"
      },
      "execution_count": null,
      "outputs": []
    },
    {
      "cell_type": "code",
      "source": [
        "\n",
        "def load_join_csv(path, vec_type='i'):\n",
        "  # create column names to use them to concatenate csv's\n",
        "  if vec_type == 'i':\n",
        "    column_name_list = list(range(401))\n",
        "  elif vec_type == 'x':\n",
        "    column_name_list = list(range(513))\n",
        "\n",
        "  dataframes_list = []\n",
        "  for file in tqdm(os.listdir(path)):\n",
        "      # print(os.path.join(newpath, file))\n",
        "      if file.endswith(\".csv\"):\n",
        "        a = pd.read_csv(os.path.join(path, file))\n",
        "        dataframes_list.append(a)\n",
        "  # return merged dataframe of all csv with labels\n",
        "  df_merged = pd.concat(dataframes_list, ignore_index=True, sort=False)\n",
        "  # df_merged = df_merged.drop(df_merged.columns[len(column_name_list)], axis=1) # drop individual file names column\n",
        "  # return features and labels\n",
        "  features=df_merged.iloc[:,0:-2]\n",
        "  labels=df_merged.iloc[:,-1]\n",
        "  \n",
        "  return df_merged, features, labels"
      ],
      "metadata": {
        "id": "iLVvKc0qkNZ7"
      },
      "execution_count": null,
      "outputs": []
    },
    {
      "cell_type": "code",
      "source": [
        "def report_classifer(y_test,predicts):\n",
        "    cm=confusion_matrix(y_test,predicts)\n",
        "    print(cm)\n",
        "    print(classification_report(y_test, predicts))"
      ],
      "metadata": {
        "id": "s6O_sGT2kNjm"
      },
      "execution_count": null,
      "outputs": []
    },
    {
      "cell_type": "code",
      "source": [
        "def run_svm(trn_features,dev_features, trn_labels,  dev_labels):\n",
        "  X_train, X_test, y_train, y_test = trn_features,dev_features, trn_labels,  dev_labels\n",
        "  #Create a svm Classifier\n",
        "  clf = SVC(kernel='rbf', class_weight ='balanced') \n",
        "  #Train the model using the training sets\n",
        "  clf.fit(X_train, y_train)\n",
        "  #Predict the response for test dataset\n",
        "  y_pred = clf.predict(X_test)\n",
        "  # Model Accuracy\n",
        "  print(\"Accuracy on normal SVM :\",metrics.accuracy_score(y_test, y_pred))\n",
        "  print(f\"Report Classifier: vectors/SVM \")\n",
        "  print(classification_report(y_test, y_pred))\n",
        "  return clf"
      ],
      "metadata": {
        "id": "ULGGtyJ2kNn-"
      },
      "execution_count": null,
      "outputs": []
    },
    {
      "cell_type": "code",
      "source": [
        "def run_experiments(path, exp_folder, vec_type='x'):\n",
        "  print(path+exp_folder+'/'+vec_type+'vector/train/')\n",
        "  trn_df, trn_features, trn_labels = load_join_csv(path+exp_folder+'/'+vec_type+'vector/train/', vec_type)\n",
        "  dev_df, dev_features, dev_labels = load_join_csv(path+exp_folder+'/'+vec_type+'vector/test/', vec_type)\n",
        "  print('train size:', len(trn_features))\n",
        "  print('dev size:', len(dev_features))\n",
        "  clf = run_svm(trn_features,dev_features, trn_labels,  dev_labels)"
      ],
      "metadata": {
        "id": "aRTOk5XCIp4z"
      },
      "execution_count": null,
      "outputs": []
    },
    {
      "cell_type": "code",
      "source": [
        "path = '/content/drive/MyDrive/archimob_data/archimob_splitSpeakers/'\n"
      ],
      "metadata": {
        "id": "lpdbUiFYJ479"
      },
      "execution_count": null,
      "outputs": []
    },
    {
      "cell_type": "code",
      "source": [
        "# SVM on one second of recordings. train size: 2873 dev size: 910\n",
        "run_experiments(path, 'one_sec', vec_type='i')\n",
        "run_experiments(path, 'one_sec', vec_type='x')"
      ],
      "metadata": {
        "colab": {
          "base_uri": "https://localhost:8080/"
        },
        "id": "vLWrwv21J442",
        "outputId": "6c236aff-7ae2-4c92-c587-cf9fa1ff0396"
      },
      "execution_count": null,
      "outputs": [
        {
          "output_type": "stream",
          "name": "stdout",
          "text": [
            "/content/drive/MyDrive/archimob_data/archimob_splitSpeakers/one_sec/ivector/train/\n"
          ]
        },
        {
          "output_type": "stream",
          "name": "stderr",
          "text": [
            "100%|██████████| 21/21 [00:00<00:00, 38.08it/s]\n",
            "100%|██████████| 9/9 [00:00<00:00, 41.50it/s]\n"
          ]
        },
        {
          "output_type": "stream",
          "name": "stdout",
          "text": [
            "train size: 2873\n",
            "dev size: 910\n",
            "Accuracy on normal SVM : 0.24175824175824176\n",
            "Report Classifier: vectors/SVM \n",
            "              precision    recall  f1-score   support\n",
            "\n",
            "          AG       0.10      0.22      0.14        67\n",
            "          BE       0.35      0.35      0.35       125\n",
            "          BS       0.38      0.03      0.06       167\n",
            "          GL       0.05      0.01      0.02        95\n",
            "          LU       0.08      0.29      0.13        52\n",
            "          NW       0.52      0.18      0.27       244\n",
            "          ZH       0.28      0.59      0.38       160\n",
            "\n",
            "    accuracy                           0.24       910\n",
            "   macro avg       0.25      0.24      0.19       910\n",
            "weighted avg       0.33      0.24      0.22       910\n",
            "\n",
            "/content/drive/MyDrive/archimob_data/archimob_splitSpeakers/one_sec/xvector/train/\n"
          ]
        },
        {
          "output_type": "stream",
          "name": "stderr",
          "text": [
            "100%|██████████| 21/21 [00:00<00:00, 32.31it/s]\n",
            "100%|██████████| 9/9 [00:00<00:00, 35.49it/s]\n"
          ]
        },
        {
          "output_type": "stream",
          "name": "stdout",
          "text": [
            "train size: 2873\n",
            "dev size: 910\n",
            "Accuracy on normal SVM : 0.13516483516483516\n",
            "Report Classifier: vectors/SVM \n",
            "              precision    recall  f1-score   support\n",
            "\n",
            "          AG       0.04      0.04      0.04        67\n",
            "          BE       0.14      0.11      0.13       125\n",
            "          BS       0.61      0.07      0.12       167\n",
            "          GL       0.01      0.01      0.01        95\n",
            "          LU       0.06      0.19      0.09        52\n",
            "          NW       0.11      0.02      0.03       244\n",
            "          ZH       0.20      0.49      0.29       160\n",
            "\n",
            "    accuracy                           0.14       910\n",
            "   macro avg       0.17      0.13      0.10       910\n",
            "weighted avg       0.20      0.14      0.11       910\n",
            "\n"
          ]
        }
      ]
    },
    {
      "cell_type": "code",
      "source": [
        "# SVM on two second of recordings. train size: 2873 dev size: 910\n",
        "run_experiments(path, 'two_sec', vec_type='i')\n",
        "run_experiments(path, 'two_sec', vec_type='x')"
      ],
      "metadata": {
        "colab": {
          "base_uri": "https://localhost:8080/"
        },
        "id": "nFj6z_euJ42J",
        "outputId": "823ac003-85c8-44e4-8ce1-a6530d567d1f"
      },
      "execution_count": null,
      "outputs": [
        {
          "output_type": "stream",
          "name": "stdout",
          "text": [
            "/content/drive/MyDrive/archimob_data/archimob_splitSpeakers/two_sec/ivector/train/\n"
          ]
        },
        {
          "output_type": "stream",
          "name": "stderr",
          "text": [
            "100%|██████████| 21/21 [00:09<00:00,  2.13it/s]\n",
            "100%|██████████| 9/9 [00:05<00:00,  1.53it/s]\n"
          ]
        },
        {
          "output_type": "stream",
          "name": "stdout",
          "text": [
            "train size: 2873\n",
            "dev size: 910\n",
            "Accuracy on normal SVM : 0.23736263736263735\n",
            "Report Classifier: vectors/SVM \n",
            "              precision    recall  f1-score   support\n",
            "\n",
            "          AG       0.10      0.22      0.14        67\n",
            "          BE       0.35      0.21      0.26       125\n",
            "          BS       0.21      0.02      0.03       167\n",
            "          GL       0.00      0.00      0.00        95\n",
            "          LU       0.13      0.40      0.20        52\n",
            "          NW       0.46      0.15      0.22       244\n",
            "          ZH       0.28      0.72      0.40       160\n",
            "\n",
            "    accuracy                           0.24       910\n",
            "   macro avg       0.22      0.25      0.18       910\n",
            "weighted avg       0.27      0.24      0.19       910\n",
            "\n",
            "/content/drive/MyDrive/archimob_data/archimob_splitSpeakers/two_sec/xvector/train/\n"
          ]
        },
        {
          "output_type": "stream",
          "name": "stderr",
          "text": [
            "100%|██████████| 21/21 [00:00<00:00, 32.66it/s]\n",
            "100%|██████████| 9/9 [00:00<00:00, 32.05it/s]\n"
          ]
        },
        {
          "output_type": "stream",
          "name": "stdout",
          "text": [
            "train size: 2873\n",
            "dev size: 910\n",
            "Accuracy on normal SVM : 0.12637362637362637\n",
            "Report Classifier: vectors/SVM \n",
            "              precision    recall  f1-score   support\n",
            "\n",
            "          AG       0.02      0.03      0.02        67\n",
            "          BE       0.12      0.06      0.08       125\n",
            "          BS       0.71      0.03      0.06       167\n",
            "          GL       0.02      0.02      0.02        95\n",
            "          LU       0.06      0.12      0.08        52\n",
            "          NW       0.11      0.02      0.03       244\n",
            "          ZH       0.18      0.56      0.28       160\n",
            "\n",
            "    accuracy                           0.13       910\n",
            "   macro avg       0.17      0.12      0.08       910\n",
            "weighted avg       0.22      0.13      0.09       910\n",
            "\n"
          ]
        }
      ]
    },
    {
      "cell_type": "code",
      "source": [
        "# SVM on three second of recordings. train size: 2873 dev size: 910\n",
        "run_experiments(path, 'three_sec', vec_type='i')\n",
        "run_experiments(path, 'three_sec', vec_type='x')"
      ],
      "metadata": {
        "colab": {
          "base_uri": "https://localhost:8080/"
        },
        "id": "8cNEoaTJJ4zl",
        "outputId": "2074d5a2-d4bb-4144-e5eb-00dced04dcff"
      },
      "execution_count": null,
      "outputs": [
        {
          "output_type": "stream",
          "name": "stdout",
          "text": [
            "/content/drive/MyDrive/archimob_data/archimob_splitSpeakers/three_sec/ivector/train/\n"
          ]
        },
        {
          "output_type": "stream",
          "name": "stderr",
          "text": [
            "100%|██████████| 21/21 [00:14<00:00,  1.48it/s]\n",
            "100%|██████████| 9/9 [00:05<00:00,  1.52it/s]\n"
          ]
        },
        {
          "output_type": "stream",
          "name": "stdout",
          "text": [
            "train size: 2873\n",
            "dev size: 910\n",
            "Accuracy on normal SVM : 0.22527472527472528\n",
            "Report Classifier: vectors/SVM \n",
            "              precision    recall  f1-score   support\n",
            "\n",
            "          AG       0.06      0.16      0.09        67\n",
            "          BE       0.29      0.13      0.18       125\n",
            "          BS       0.08      0.01      0.01       167\n",
            "          GL       0.22      0.04      0.07        95\n",
            "          LU       0.16      0.42      0.24        52\n",
            "          NW       0.45      0.10      0.17       244\n",
            "          ZH       0.27      0.79      0.41       160\n",
            "\n",
            "    accuracy                           0.23       910\n",
            "   macro avg       0.22      0.24      0.17       910\n",
            "weighted avg       0.26      0.23      0.17       910\n",
            "\n",
            "/content/drive/MyDrive/archimob_data/archimob_splitSpeakers/three_sec/xvector/train/\n"
          ]
        },
        {
          "output_type": "stream",
          "name": "stderr",
          "text": [
            "100%|██████████| 21/21 [00:14<00:00,  1.41it/s]\n",
            "100%|██████████| 9/9 [00:06<00:00,  1.41it/s]\n"
          ]
        },
        {
          "output_type": "stream",
          "name": "stdout",
          "text": [
            "train size: 2873\n",
            "dev size: 910\n",
            "Accuracy on normal SVM : 0.14175824175824175\n",
            "Report Classifier: vectors/SVM \n",
            "              precision    recall  f1-score   support\n",
            "\n",
            "          AG       0.02      0.03      0.03        67\n",
            "          BE       0.04      0.02      0.02       125\n",
            "          BS       0.75      0.04      0.07       167\n",
            "          GL       0.03      0.02      0.02        95\n",
            "          LU       0.08      0.19      0.12        52\n",
            "          NW       0.12      0.01      0.02       244\n",
            "          ZH       0.19      0.65      0.29       160\n",
            "\n",
            "    accuracy                           0.14       910\n",
            "   macro avg       0.18      0.14      0.08       910\n",
            "weighted avg       0.22      0.14      0.08       910\n",
            "\n"
          ]
        }
      ]
    },
    {
      "cell_type": "code",
      "source": [
        "# SVM on four second of recordings. train size: 2873 dev size: 910\n",
        "run_experiments(path, 'four_sec', vec_type='i')\n",
        "run_experiments(path, 'four_sec', vec_type='x')"
      ],
      "metadata": {
        "colab": {
          "base_uri": "https://localhost:8080/"
        },
        "id": "ma5ifZUpJ4w-",
        "outputId": "ca4f8cc0-0734-48c1-e808-78be4136fffe"
      },
      "execution_count": null,
      "outputs": [
        {
          "output_type": "stream",
          "name": "stdout",
          "text": [
            "/content/drive/MyDrive/archimob_data/archimob_splitSpeakers/four_sec/ivector/train/\n"
          ]
        },
        {
          "output_type": "stream",
          "name": "stderr",
          "text": [
            "100%|██████████| 21/21 [00:15<00:00,  1.39it/s]\n",
            "100%|██████████| 9/9 [00:05<00:00,  1.51it/s]\n"
          ]
        },
        {
          "output_type": "stream",
          "name": "stdout",
          "text": [
            "train size: 2873\n",
            "dev size: 910\n",
            "Accuracy on normal SVM : 0.22967032967032966\n",
            "Report Classifier: vectors/SVM \n",
            "              precision    recall  f1-score   support\n",
            "\n",
            "          AG       0.07      0.13      0.09        67\n",
            "          BE       0.26      0.11      0.16       125\n",
            "          BS       0.00      0.00      0.00       167\n",
            "          GL       0.31      0.04      0.07        95\n",
            "          LU       0.16      0.56      0.24        52\n",
            "          NW       0.47      0.08      0.13       244\n",
            "          ZH       0.28      0.84      0.42       160\n",
            "\n",
            "    accuracy                           0.23       910\n",
            "   macro avg       0.22      0.25      0.16       910\n",
            "weighted avg       0.26      0.23      0.16       910\n",
            "\n",
            "/content/drive/MyDrive/archimob_data/archimob_splitSpeakers/four_sec/xvector/train/\n"
          ]
        },
        {
          "output_type": "stream",
          "name": "stderr",
          "text": [
            "100%|██████████| 21/21 [00:14<00:00,  1.47it/s]\n",
            "100%|██████████| 9/9 [00:06<00:00,  1.49it/s]\n"
          ]
        },
        {
          "output_type": "stream",
          "name": "stdout",
          "text": [
            "train size: 2873\n",
            "dev size: 910\n",
            "Accuracy on normal SVM : 0.14395604395604394\n",
            "Report Classifier: vectors/SVM \n",
            "              precision    recall  f1-score   support\n",
            "\n",
            "          AG       0.00      0.00      0.00        67\n",
            "          BE       0.04      0.02      0.02       125\n",
            "          BS       0.50      0.02      0.05       167\n",
            "          GL       0.02      0.01      0.01        95\n",
            "          LU       0.10      0.23      0.13        52\n",
            "          NW       0.00      0.00      0.00       244\n",
            "          ZH       0.20      0.70      0.31       160\n",
            "\n",
            "    accuracy                           0.14       910\n",
            "   macro avg       0.12      0.14      0.07       910\n",
            "weighted avg       0.14      0.14      0.07       910\n",
            "\n"
          ]
        }
      ]
    },
    {
      "cell_type": "code",
      "source": [
        "# SVM on five second of recordings. train size: 2873 dev size: 910\n",
        "run_experiments(path, 'five_sec', vec_type='i')\n",
        "run_experiments(path, 'five_sec', vec_type='x')"
      ],
      "metadata": {
        "colab": {
          "base_uri": "https://localhost:8080/"
        },
        "id": "qubFso31J4uW",
        "outputId": "9192076f-5e1b-451b-a699-1eb8471570ca"
      },
      "execution_count": null,
      "outputs": [
        {
          "output_type": "stream",
          "name": "stdout",
          "text": [
            "/content/drive/MyDrive/archimob_data/archimob_splitSpeakers/five_sec/ivector/train/\n"
          ]
        },
        {
          "output_type": "stream",
          "name": "stderr",
          "text": [
            "100%|██████████| 21/21 [00:16<00:00,  1.28it/s]\n",
            "100%|██████████| 9/9 [00:06<00:00,  1.50it/s]\n"
          ]
        },
        {
          "output_type": "stream",
          "name": "stdout",
          "text": [
            "train size: 2873\n",
            "dev size: 910\n",
            "Accuracy on normal SVM : 0.23956043956043957\n",
            "Report Classifier: vectors/SVM \n",
            "              precision    recall  f1-score   support\n",
            "\n",
            "          AG       0.08      0.13      0.10        67\n",
            "          BE       0.30      0.14      0.19       125\n",
            "          BS       0.00      0.00      0.00       167\n",
            "          GL       0.36      0.05      0.09        95\n",
            "          LU       0.17      0.65      0.27        52\n",
            "          NW       0.47      0.07      0.12       244\n",
            "          ZH       0.28      0.86      0.42       160\n",
            "\n",
            "    accuracy                           0.24       910\n",
            "   macro avg       0.24      0.27      0.17       910\n",
            "weighted avg       0.27      0.24      0.16       910\n",
            "\n",
            "/content/drive/MyDrive/archimob_data/archimob_splitSpeakers/five_sec/xvector/train/\n"
          ]
        },
        {
          "output_type": "stream",
          "name": "stderr",
          "text": [
            "100%|██████████| 21/21 [00:00<00:00, 33.14it/s]\n",
            "100%|██████████| 9/9 [00:00<00:00, 33.92it/s]\n"
          ]
        },
        {
          "output_type": "stream",
          "name": "stdout",
          "text": [
            "train size: 2873\n",
            "dev size: 910\n",
            "Accuracy on normal SVM : 0.14615384615384616\n",
            "Report Classifier: vectors/SVM \n",
            "              precision    recall  f1-score   support\n",
            "\n",
            "          AG       0.00      0.00      0.00        67\n",
            "          BE       0.04      0.02      0.02       125\n",
            "          BS       0.40      0.04      0.07       167\n",
            "          GL       0.02      0.01      0.01        95\n",
            "          LU       0.07      0.17      0.10        52\n",
            "          NW       0.00      0.00      0.00       244\n",
            "          ZH       0.21      0.72      0.33       160\n",
            "\n",
            "    accuracy                           0.15       910\n",
            "   macro avg       0.11      0.14      0.08       910\n",
            "weighted avg       0.12      0.15      0.08       910\n",
            "\n"
          ]
        }
      ]
    },
    {
      "cell_type": "code",
      "source": [
        "# SVM on complete set of recordings. train size: 33004 dev size: 11287\n",
        "run_experiments(path, 'full_time', vec_type='i')\n",
        "run_experiments(path, 'full_time', vec_type='x')"
      ],
      "metadata": {
        "colab": {
          "base_uri": "https://localhost:8080/"
        },
        "id": "peIU057pJ4rw",
        "outputId": "fdc25449-3fbe-45d7-f79b-98a1cb536548"
      },
      "execution_count": null,
      "outputs": [
        {
          "output_type": "stream",
          "name": "stdout",
          "text": [
            "/content/drive/MyDrive/archimob_data/archimob_splitSpeakers/full_time/ivector/train/\n"
          ]
        },
        {
          "output_type": "stream",
          "name": "stderr",
          "text": [
            "100%|██████████| 21/21 [00:03<00:00,  6.55it/s]\n",
            "100%|██████████| 9/9 [00:01<00:00,  8.81it/s]\n"
          ]
        },
        {
          "output_type": "stream",
          "name": "stdout",
          "text": [
            "train size: 33004\n",
            "dev size: 11287\n",
            "Accuracy on normal SVM : 0.20315407105519626\n",
            "Report Classifier: vectors/SVM \n",
            "              precision    recall  f1-score   support\n",
            "\n",
            "          AG       0.25      0.17      0.21      2843\n",
            "          BE       0.08      0.08      0.08       943\n",
            "          BS       0.08      0.00      0.01      2403\n",
            "          GL       0.33      0.09      0.14      2032\n",
            "          LU       0.14      0.49      0.21       428\n",
            "          NW       0.05      0.02      0.03       924\n",
            "          ZH       0.22      0.76      0.35      1714\n",
            "\n",
            "    accuracy                           0.20     11287\n",
            "   macro avg       0.16      0.23      0.15     11287\n",
            "weighted avg       0.19      0.20      0.15     11287\n",
            "\n",
            "/content/drive/MyDrive/archimob_data/archimob_splitSpeakers/full_time/xvector/train/\n"
          ]
        },
        {
          "output_type": "stream",
          "name": "stderr",
          "text": [
            "100%|██████████| 21/21 [00:03<00:00,  5.68it/s]\n",
            "100%|██████████| 9/9 [00:01<00:00,  6.99it/s]\n"
          ]
        },
        {
          "output_type": "stream",
          "name": "stdout",
          "text": [
            "train size: 33004\n",
            "dev size: 11287\n",
            "Accuracy on normal SVM : 0.1320988748117303\n",
            "Report Classifier: vectors/SVM \n",
            "              precision    recall  f1-score   support\n",
            "\n",
            "          AG       0.13      0.06      0.08      2843\n",
            "          BE       0.01      0.01      0.01       943\n",
            "          BS       0.08      0.00      0.01      2403\n",
            "          GL       0.16      0.07      0.09      2032\n",
            "          LU       0.06      0.17      0.09       428\n",
            "          NW       0.02      0.01      0.01       924\n",
            "          ZH       0.16      0.64      0.26      1714\n",
            "\n",
            "    accuracy                           0.13     11287\n",
            "   macro avg       0.09      0.14      0.08     11287\n",
            "weighted avg       0.11      0.13      0.08     11287\n",
            "\n"
          ]
        }
      ]
    }
  ]
}