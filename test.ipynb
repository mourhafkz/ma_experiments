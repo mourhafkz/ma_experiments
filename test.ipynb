{
  "cells": [
    {
      "cell_type": "code",
      "source": [
        "from google.colab import drive\n",
        "drive.mount('/content/drive')"
      ],
      "metadata": {
        "colab": {
          "base_uri": "https://localhost:8080/"
        },
        "id": "nNQPZmtIaP6s",
        "outputId": "3df086b7-6b04-4d9c-9ea8-e874ea3be31e"
      },
      "execution_count": 1,
      "outputs": [
        {
          "output_type": "stream",
          "name": "stdout",
          "text": [
            "Drive already mounted at /content/drive; to attempt to forcibly remount, call drive.mount(\"/content/drive\", force_remount=True).\n"
          ]
        }
      ]
    },
    {
      "cell_type": "code",
      "execution_count": 2,
      "metadata": {
        "id": "zaFYeeGij-Ko"
      },
      "outputs": [],
      "source": [
        "import pandas as pd\n",
        "from sklearn.metrics import  confusion_matrix\n",
        "from sklearn.metrics import classification_report\n",
        "from sklearn.svm import SVC\n",
        "from sklearn.model_selection import cross_val_predict"
      ]
    },
    {
      "cell_type": "code",
      "execution_count": 3,
      "metadata": {
        "id": "KJ3WmHMFj-Kt"
      },
      "outputs": [],
      "source": [
        "def report_classifer(y_test,predicts):\n",
        "    cm=confusion_matrix(y_test,predicts)\n",
        "    print(cm)\n",
        "    print(classification_report(y_test, predicts))\n"
      ]
    },
    {
      "cell_type": "code",
      "execution_count": 4,
      "metadata": {
        "id": "kvWWqnyGj-Kt"
      },
      "outputs": [],
      "source": [
        "def read_data_set(csv_vectors):\n",
        "    vdf=pd.read_csv(csv_vectors,header=None)\n",
        "    features=vdf.iloc[:,0:-1]\n",
        "    labels=vdf.iloc[:,-1]\n",
        "    return features,labels"
      ]
    },
    {
      "cell_type": "code",
      "source": [
        "def run_svm(path, filename, vec_type = 'i'):\n",
        "  features,labels=read_data_set(path+vec_type+filename)\n",
        "  svc = SVC(gamma='auto',random_state=42)\n",
        "  y_pred = cross_val_predict(svc, features, labels, cv=5,verbose=1)\n",
        "  print(\"-----------------------------\")\n",
        "  print(f\"Report Classifier: {vec_type}-vectors/SVM\")\n",
        "  report_classifer(labels, y_pred)\n"
      ],
      "metadata": {
        "id": "CKAETf2-5gNd"
      },
      "execution_count": 5,
      "outputs": []
    },
    {
      "cell_type": "code",
      "source": [
        "path = '/content/drive/MyDrive/xivectors/'\n",
        "filename = 'vectors_ar_en_15000.csv' # remove the i or x at the beginning "
      ],
      "metadata": {
        "id": "RN802yva5K8L"
      },
      "execution_count": 11,
      "outputs": []
    },
    {
      "cell_type": "code",
      "execution_count": 12,
      "metadata": {
        "id": "N9fhZ40aj-Ku",
        "colab": {
          "base_uri": "https://localhost:8080/"
        },
        "outputId": "744ee35a-cead-4346-bb32-c5159e402cda"
      },
      "outputs": [
        {
          "output_type": "stream",
          "name": "stderr",
          "text": [
            "[Parallel(n_jobs=1)]: Using backend SequentialBackend with 1 concurrent workers.\n",
            "[Parallel(n_jobs=1)]: Done   5 out of   5 | elapsed: 11.6min finished\n"
          ]
        },
        {
          "output_type": "stream",
          "name": "stdout",
          "text": [
            "-----------------------------\n",
            "Report Classifier: i-vectors/SVM\n",
            "[[11588  3411]\n",
            " [ 2019 12979]]\n",
            "              precision    recall  f1-score   support\n",
            "\n",
            "      arabic       0.85      0.77      0.81     14999\n",
            "     english       0.79      0.87      0.83     14998\n",
            "\n",
            "    accuracy                           0.82     29997\n",
            "   macro avg       0.82      0.82      0.82     29997\n",
            "weighted avg       0.82      0.82      0.82     29997\n",
            "\n"
          ]
        }
      ],
      "source": [
        "run_svm(path, filename, 'i')"
      ]
    },
    {
      "cell_type": "code",
      "execution_count": 13,
      "metadata": {
        "id": "EK7HNnEEj-Kz",
        "outputId": "df2313a8-3730-43d5-ea6f-95b224d396ff",
        "colab": {
          "base_uri": "https://localhost:8080/"
        }
      },
      "outputs": [
        {
          "output_type": "stream",
          "name": "stderr",
          "text": [
            "[Parallel(n_jobs=1)]: Using backend SequentialBackend with 1 concurrent workers.\n",
            "[Parallel(n_jobs=1)]: Done   5 out of   5 | elapsed: 32.2min finished\n"
          ]
        },
        {
          "output_type": "stream",
          "name": "stdout",
          "text": [
            "-----------------------------\n",
            "Report Classifier: x-vectors/SVM\n",
            "[[10626  4373]\n",
            " [  197 14801]]\n",
            "              precision    recall  f1-score   support\n",
            "\n",
            "      arabic       0.98      0.71      0.82     14999\n",
            "     english       0.77      0.99      0.87     14998\n",
            "\n",
            "    accuracy                           0.85     29997\n",
            "   macro avg       0.88      0.85      0.84     29997\n",
            "weighted avg       0.88      0.85      0.84     29997\n",
            "\n"
          ]
        }
      ],
      "source": [
        "run_svm(path, filename, 'x')"
      ]
    },
    {
      "cell_type": "markdown",
      "metadata": {
        "id": "5ZYxIlmMj-Kz"
      },
      "source": [
        "---------------------"
      ]
    }
  ],
  "metadata": {
    "kernelspec": {
      "display_name": "Python 3",
      "language": "python",
      "name": "python3"
    },
    "language_info": {
      "codemirror_mode": {
        "name": "ipython",
        "version": 3
      },
      "file_extension": ".py",
      "mimetype": "text/x-python",
      "name": "python",
      "nbconvert_exporter": "python",
      "pygments_lexer": "ipython3",
      "version": "3.7.6"
    },
    "colab": {
      "provenance": []
    },
    "accelerator": "GPU",
    "gpuClass": "standard"
  },
  "nbformat": 4,
  "nbformat_minor": 0
}