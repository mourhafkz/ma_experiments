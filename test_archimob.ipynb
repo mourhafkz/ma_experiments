{
  "cells": [
    {
      "cell_type": "code",
      "source": [
        "from google.colab import drive\n",
        "drive.mount('/content/drive')"
      ],
      "metadata": {
        "colab": {
          "base_uri": "https://localhost:8080/"
        },
        "id": "nNQPZmtIaP6s",
        "outputId": "f4c24469-f2dd-4741-d4fc-e7972229a838"
      },
      "execution_count": 13,
      "outputs": [
        {
          "output_type": "stream",
          "name": "stdout",
          "text": [
            "Drive already mounted at /content/drive; to attempt to forcibly remount, call drive.mount(\"/content/drive\", force_remount=True).\n"
          ]
        }
      ]
    },
    {
      "cell_type": "code",
      "execution_count": 24,
      "metadata": {
        "id": "zaFYeeGij-Ko"
      },
      "outputs": [],
      "source": [
        "import pandas as pd\n",
        "from sklearn.metrics import  confusion_matrix\n",
        "from sklearn.metrics import classification_report\n",
        "from sklearn.svm import SVC\n",
        "from sklearn.model_selection import cross_val_predict\n",
        "from sklearn.model_selection import train_test_split\n",
        "from sklearn import metrics\n",
        "from sklearn.neural_network import MLPClassifier\n"
      ]
    },
    {
      "cell_type": "code",
      "execution_count": 15,
      "metadata": {
        "id": "KJ3WmHMFj-Kt"
      },
      "outputs": [],
      "source": [
        "def report_classifer(y_test,predicts):\n",
        "    cm=confusion_matrix(y_test,predicts)\n",
        "    print(cm)\n",
        "    print(classification_report(y_test, predicts))\n"
      ]
    },
    {
      "cell_type": "code",
      "execution_count": 16,
      "metadata": {
        "id": "kvWWqnyGj-Kt"
      },
      "outputs": [],
      "source": [
        "def read_data_set(csv_vectors):\n",
        "    vdf=pd.read_csv(csv_vectors,header=None)\n",
        "    features=vdf.iloc[:,0:-1]\n",
        "    labels=vdf.iloc[:,-1]\n",
        "    return features,labels"
      ]
    },
    {
      "cell_type": "code",
      "source": [
        "def run_svm_with_cross_val(path, filename, vec_type = 'i'):\n",
        "  features,labels=read_data_set(path+vec_type+filename)\n",
        "  svc = SVC(gamma='auto',random_state=42)\n",
        "  y_pred = cross_val_predict(svc, features, labels, cv=5,verbose=1)\n",
        "  print(\"-----------------------------\")\n",
        "  print(f\"Report Classifier: {vec_type}-vectors/SVM with cross validation\")\n",
        "  report_classifer(labels, y_pred)\n"
      ],
      "metadata": {
        "id": "CKAETf2-5gNd"
      },
      "execution_count": 17,
      "outputs": []
    },
    {
      "cell_type": "code",
      "source": [
        "def run_svm(path, filename, vec_type = 'i'):\n",
        "  features,labels=read_data_set(path+vec_type+filename)\n",
        "  X_train, X_test, y_train, y_test = train_test_split(features, labels, test_size=0.3,random_state=42)\n",
        "  #Create a svm Classifier\n",
        "  clf = SVC(kernel='linear') \n",
        "  #Train the model using the training sets\n",
        "  clf.fit(X_train, y_train)\n",
        "  #Predict the response for test dataset\n",
        "  y_pred = clf.predict(X_test)\n",
        "  # Model Accuracy\n",
        "  print(\"Accuracy on normal SVM without cross validation:\",metrics.accuracy_score(y_test, y_pred))\n",
        "  print(f\"Report Classifier: {vec_type}-vectors/SVM without cross validation\")\n",
        "  print(classification_report(y_test, y_pred))\n"
      ],
      "metadata": {
        "id": "-OJ475KZLEeK"
      },
      "execution_count": 18,
      "outputs": []
    },
    {
      "cell_type": "code",
      "source": [
        "def run_mlp(path, filename, vec_type = 'i'):\n",
        "  features,labels=read_data_set(path+vec_type+filename)\n",
        "  X_train, X_test, y_train, y_test = train_test_split(features, labels, test_size=0.3,random_state=42)\n",
        "  mlp = MLPClassifier(hidden_layer_sizes=(8,8,8), activation='relu', solver='adam', max_iter=500)\n",
        "  mlp.fit(X_train,y_train)\n",
        "  predict_train = mlp.predict(X_train)\n",
        "  predict_test = mlp.predict(X_test)\n",
        "  # Model Accuracy\n",
        "  print(\"Accuracy on MLP:\",metrics.accuracy_score(y_test, predict_test))\n",
        "  print(f\"Report Classifier: {vec_type}-vectors/MLP\")\n",
        "  print(classification_report(y_test, predict_test))\n",
        "\n"
      ],
      "metadata": {
        "id": "h6iz6kLsOgk5"
      },
      "execution_count": 25,
      "outputs": []
    },
    {
      "cell_type": "code",
      "source": [
        "path = '/content/drive/MyDrive/xivectors/'\n",
        "filename = 'vectors_ArchiMob_5000into5.csv' # remove the i or x at the beginning "
      ],
      "metadata": {
        "id": "RN802yva5K8L"
      },
      "execution_count": 19,
      "outputs": []
    },
    {
      "cell_type": "code",
      "execution_count": 20,
      "metadata": {
        "id": "N9fhZ40aj-Ku",
        "colab": {
          "base_uri": "https://localhost:8080/"
        },
        "outputId": "154dc0bb-c3d7-4fb8-8f94-e9655b5abcfd"
      },
      "outputs": [
        {
          "output_type": "stream",
          "name": "stdout",
          "text": [
            "Accuracy on normal SVM without cross validation: 0.8570666666666666\n",
            "Report Classifier: i-vectors/SVM without cross validation\n",
            "              precision    recall  f1-score   support\n",
            "\n",
            "          AG       0.82      0.87      0.84      1513\n",
            "          BE       0.87      0.89      0.88      1482\n",
            "          BS       0.87      0.86      0.87      1507\n",
            "          LU       0.88      0.86      0.87      1507\n",
            "          ZH       0.84      0.81      0.82      1491\n",
            "\n",
            "    accuracy                           0.86      7500\n",
            "   macro avg       0.86      0.86      0.86      7500\n",
            "weighted avg       0.86      0.86      0.86      7500\n",
            "\n"
          ]
        }
      ],
      "source": [
        "# training normal svm \n",
        "run_svm(path, filename, 'i')"
      ]
    },
    {
      "cell_type": "code",
      "source": [
        "# training svm with cross validation to test the data leakage into the test set\n",
        "run_svm_with_cross_val(path, filename, 'i')"
      ],
      "metadata": {
        "colab": {
          "base_uri": "https://localhost:8080/"
        },
        "id": "aRBufmB7MBkD",
        "outputId": "bf776ed0-026e-47e1-e91c-ef52e7b8f1f5"
      },
      "execution_count": 21,
      "outputs": [
        {
          "output_type": "stream",
          "name": "stderr",
          "text": [
            "[Parallel(n_jobs=1)]: Using backend SequentialBackend with 1 concurrent workers.\n",
            "[Parallel(n_jobs=1)]: Done   5 out of   5 | elapsed:  4.1min finished\n"
          ]
        },
        {
          "output_type": "stream",
          "name": "stdout",
          "text": [
            "-----------------------------\n",
            "Report Classifier: i-vectors/SVM with cross validation\n",
            "[[4292  146  229  151  182]\n",
            " [ 174 4542   90   91  103]\n",
            " [ 241   92 4329   60  278]\n",
            " [ 218  104   64 4301  313]\n",
            " [ 378  190  359  227 3846]]\n",
            "              precision    recall  f1-score   support\n",
            "\n",
            "          AG       0.81      0.86      0.83      5000\n",
            "          BE       0.90      0.91      0.90      5000\n",
            "          BS       0.85      0.87      0.86      5000\n",
            "          LU       0.89      0.86      0.88      5000\n",
            "          ZH       0.81      0.77      0.79      5000\n",
            "\n",
            "    accuracy                           0.85     25000\n",
            "   macro avg       0.85      0.85      0.85     25000\n",
            "weighted avg       0.85      0.85      0.85     25000\n",
            "\n"
          ]
        }
      ]
    },
    {
      "cell_type": "code",
      "source": [
        "run_mlp(path, filename, 'i')"
      ],
      "metadata": {
        "colab": {
          "base_uri": "https://localhost:8080/"
        },
        "id": "8P6DeIgxOSwr",
        "outputId": "0b0a4c52-471f-4e00-a23c-a02b794f9ac9"
      },
      "execution_count": 27,
      "outputs": [
        {
          "output_type": "stream",
          "name": "stdout",
          "text": [
            "Accuracy on MLP: 0.8468\n",
            "Report Classifier: i-vectors/MLP\n",
            "              precision    recall  f1-score   support\n",
            "\n",
            "          AG       0.82      0.83      0.82      1513\n",
            "          BE       0.87      0.89      0.88      1482\n",
            "          BS       0.86      0.83      0.85      1507\n",
            "          LU       0.86      0.87      0.86      1507\n",
            "          ZH       0.83      0.81      0.82      1491\n",
            "\n",
            "    accuracy                           0.85      7500\n",
            "   macro avg       0.85      0.85      0.85      7500\n",
            "weighted avg       0.85      0.85      0.85      7500\n",
            "\n"
          ]
        }
      ]
    },
    {
      "cell_type": "code",
      "execution_count": 22,
      "metadata": {
        "id": "EK7HNnEEj-Kz",
        "outputId": "87d8fff2-db2c-4c38-9da7-feb44c61f1d7",
        "colab": {
          "base_uri": "https://localhost:8080/"
        }
      },
      "outputs": [
        {
          "output_type": "stream",
          "name": "stdout",
          "text": [
            "Accuracy on normal SVM without cross validation: 0.9670666666666666\n",
            "Report Classifier: x-vectors/SVM without cross validation\n",
            "              precision    recall  f1-score   support\n",
            "\n",
            "          AG       0.95      0.97      0.96      1513\n",
            "          BE       0.97      0.98      0.98      1482\n",
            "          BS       0.98      0.97      0.97      1507\n",
            "          LU       0.98      0.96      0.97      1507\n",
            "          ZH       0.96      0.96      0.96      1491\n",
            "\n",
            "    accuracy                           0.97      7500\n",
            "   macro avg       0.97      0.97      0.97      7500\n",
            "weighted avg       0.97      0.97      0.97      7500\n",
            "\n"
          ]
        }
      ],
      "source": [
        "# training normal svm \n",
        "run_svm(path, filename, 'x')"
      ]
    },
    {
      "cell_type": "code",
      "source": [
        "# training svm with cross validation to test the data leakage into the test set\n",
        "run_svm_with_cross_val(path, filename, 'x')"
      ],
      "metadata": {
        "colab": {
          "base_uri": "https://localhost:8080/"
        },
        "id": "EHgiKwckJv6t",
        "outputId": "b15ce433-14d4-4a66-e406-cdc9cfcbd47c"
      },
      "execution_count": 23,
      "outputs": [
        {
          "output_type": "stream",
          "name": "stderr",
          "text": [
            "[Parallel(n_jobs=1)]: Using backend SequentialBackend with 1 concurrent workers.\n",
            "[Parallel(n_jobs=1)]: Done   5 out of   5 | elapsed:  4.0min finished\n"
          ]
        },
        {
          "output_type": "stream",
          "name": "stdout",
          "text": [
            "-----------------------------\n",
            "Report Classifier: x-vectors/SVM with cross validation\n",
            "[[4959   12    6   16    7]\n",
            " [  60 4881    4   28   27]\n",
            " [  62    2 4901    8   27]\n",
            " [ 132   23   21 4400  424]\n",
            " [ 192  139   67  101 4501]]\n",
            "              precision    recall  f1-score   support\n",
            "\n",
            "          AG       0.92      0.99      0.95      5000\n",
            "          BE       0.97      0.98      0.97      5000\n",
            "          BS       0.98      0.98      0.98      5000\n",
            "          LU       0.97      0.88      0.92      5000\n",
            "          ZH       0.90      0.90      0.90      5000\n",
            "\n",
            "    accuracy                           0.95     25000\n",
            "   macro avg       0.95      0.95      0.95     25000\n",
            "weighted avg       0.95      0.95      0.95     25000\n",
            "\n"
          ]
        }
      ]
    },
    {
      "cell_type": "code",
      "source": [
        "run_mlp(path, filename, 'x')"
      ],
      "metadata": {
        "colab": {
          "base_uri": "https://localhost:8080/"
        },
        "id": "TLtt23fAOWZ6",
        "outputId": "82f795ad-2b2f-472f-81c0-209464105b40"
      },
      "execution_count": 28,
      "outputs": [
        {
          "output_type": "stream",
          "name": "stdout",
          "text": [
            "Accuracy on MLP: 0.9734666666666667\n",
            "Report Classifier: x-vectors/MLP\n",
            "              precision    recall  f1-score   support\n",
            "\n",
            "          AG       0.97      0.97      0.97      1513\n",
            "          BE       0.97      0.98      0.98      1482\n",
            "          BS       0.98      0.98      0.98      1507\n",
            "          LU       0.97      0.97      0.97      1507\n",
            "          ZH       0.97      0.96      0.97      1491\n",
            "\n",
            "    accuracy                           0.97      7500\n",
            "   macro avg       0.97      0.97      0.97      7500\n",
            "weighted avg       0.97      0.97      0.97      7500\n",
            "\n"
          ]
        }
      ]
    },
    {
      "cell_type": "markdown",
      "metadata": {
        "id": "5ZYxIlmMj-Kz"
      },
      "source": [
        "---------------------"
      ]
    }
  ],
  "metadata": {
    "kernelspec": {
      "display_name": "Python 3",
      "language": "python",
      "name": "python3"
    },
    "language_info": {
      "codemirror_mode": {
        "name": "ipython",
        "version": 3
      },
      "file_extension": ".py",
      "mimetype": "text/x-python",
      "name": "python",
      "nbconvert_exporter": "python",
      "pygments_lexer": "ipython3",
      "version": "3.7.6"
    },
    "colab": {
      "provenance": []
    },
    "accelerator": "GPU",
    "gpuClass": "standard"
  },
  "nbformat": 4,
  "nbformat_minor": 0
}